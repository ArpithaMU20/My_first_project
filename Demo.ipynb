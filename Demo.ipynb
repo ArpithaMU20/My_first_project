{
 "cells": [
  {
   "cell_type": "code",
   "execution_count": null,
   "id": "c2cf9b77-28f0-47ad-9d42-cd62a0b6c87e",
   "metadata": {},
   "outputs": [],
   "source": []
  },
  {
   "cell_type": "code",
   "execution_count": 4,
   "id": "c2120c5d-a248-4963-888a-86301da32221",
   "metadata": {},
   "outputs": [
    {
     "name": "stdout",
     "output_type": "stream",
     "text": [
      "india is number 1 team and has won 2012 worldcup and it rank 1 and the captain name is kholi\n"
     ]
    }
   ],
   "source": [
    "team = \"india\"\n",
    "worldcup = 2012\n",
    "captain = \"kholi\"\n",
    "rank = 1\n",
    "print(team, \"is number 1 team and has won\", worldcup, \"worldcup and it rank\", rank, \"and the captain name is\", captain)"
   ]
  },
  {
   "cell_type": "code",
   "execution_count": 5,
   "id": "7f7dfe18-de54-42a8-8166-e5fee454cd25",
   "metadata": {},
   "outputs": [
    {
     "name": "stdout",
     "output_type": "stream",
     "text": [
      "<class 'int'>\n",
      "<class 'float'>\n",
      "<class 'str'>\n"
     ]
    }
   ],
   "source": [
    "x = 56\n",
    "y = 56.78\n",
    "z = \"python\"\n",
    "print(type(x))\n",
    "print(type(y))\n",
    "print(type(z))"
   ]
  },
  {
   "cell_type": "code",
   "execution_count": 6,
   "id": "9ca9edc8-1737-4873-9138-bbcb1701396a",
   "metadata": {},
   "outputs": [
    {
     "name": "stdout",
     "output_type": "stream",
     "text": [
      "10.0\n"
     ]
    }
   ],
   "source": [
    "a = 10\n",
    "print(float(a))"
   ]
  },
  {
   "cell_type": "code",
   "execution_count": 7,
   "id": "1b086cf0-c7ab-481b-9b53-fb77990f71bb",
   "metadata": {},
   "outputs": [
    {
     "name": "stdout",
     "output_type": "stream",
     "text": [
      "12\n"
     ]
    }
   ],
   "source": [
    "a = 12.56\n",
    "print(int(a))"
   ]
  },
  {
   "cell_type": "code",
   "execution_count": 9,
   "id": "25ad4470-5cb0-4700-85f3-8931c4af7519",
   "metadata": {},
   "outputs": [
    {
     "name": "stdout",
     "output_type": "stream",
     "text": [
      "1020\n",
      "30\n"
     ]
    }
   ],
   "source": [
    "a = \"10\"\n",
    "b = \"20\"\n",
    "print(a+b)\n",
    "print(int(a)+int(b))"
   ]
  },
  {
   "cell_type": "code",
   "execution_count": 10,
   "id": "44088bb0-057f-4b4f-9af7-ee0164a7cf25",
   "metadata": {},
   "outputs": [
    {
     "ename": "ValueError",
     "evalue": "invalid literal for int() with base 10: 'hello'",
     "output_type": "error",
     "traceback": [
      "\u001b[1;31m---------------------------------------------------------------------------\u001b[0m",
      "\u001b[1;31mValueError\u001b[0m                                Traceback (most recent call last)",
      "Cell \u001b[1;32mIn[10], line 2\u001b[0m\n\u001b[0;32m      1\u001b[0m a \u001b[38;5;241m=\u001b[39m \u001b[38;5;124m\"\u001b[39m\u001b[38;5;124mhello\u001b[39m\u001b[38;5;124m\"\u001b[39m\n\u001b[1;32m----> 2\u001b[0m \u001b[38;5;28mprint\u001b[39m(\u001b[38;5;28mint\u001b[39m(a))\n",
      "\u001b[1;31mValueError\u001b[0m: invalid literal for int() with base 10: 'hello'"
     ]
    }
   ],
   "source": [
    "a = \"hello\"\n",
    "print(int(a))"
   ]
  },
  {
   "cell_type": "code",
   "execution_count": null,
   "id": "1f6daf43-3ace-41f6-a29c-572ba075634a",
   "metadata": {},
   "outputs": [],
   "source": []
  }
 ],
 "metadata": {
  "kernelspec": {
   "display_name": "Python [conda env:base] *",
   "language": "python",
   "name": "conda-base-py"
  },
  "language_info": {
   "codemirror_mode": {
    "name": "ipython",
    "version": 3
   },
   "file_extension": ".py",
   "mimetype": "text/x-python",
   "name": "python",
   "nbconvert_exporter": "python",
   "pygments_lexer": "ipython3",
   "version": "3.12.7"
  }
 },
 "nbformat": 4,
 "nbformat_minor": 5
}
